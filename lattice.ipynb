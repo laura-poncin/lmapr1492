{
 "cells": [
  {
   "cell_type": "code",
   "execution_count": 70,
   "metadata": {},
   "outputs": [
    {
     "name": "stdout",
     "output_type": "stream",
     "text": [
      "Full Formula (Cd1 Cl2)\n",
      "Reduced Formula: CdCl2\n",
      "abc   :   6.710023   6.710023   6.710023\n",
      "angles:  34.019895  34.019895  34.019895\n",
      "Sites (3)\n",
      "  #  SP           a         b         c    magmom\n",
      "---  ----  --------  --------  --------  --------\n",
      "  0  Cl    0.742279  0.742279  0.742279         0\n",
      "  1  Cl    0.257721  0.257721  0.257721         0\n",
      "  2  Cd    0         0         0                0\n"
     ]
    }
   ],
   "source": [
    "from pymatgen.ext.matproj import MPRester\n",
    "from pymatgen.io.cif import CifWriter\n",
    "\n",
    "\n",
    "# Obtain all existing Cd-Cl phases using the Materials Project REST API\n",
    "with MPRester(\"sdp42oAyhJ8t1iJnx\") as m:\n",
    "    # Structure for material id\n",
    "    structure = m.get_structure_by_material_id(\"mp-22881\")\n",
    "    #print(structure)\n",
    "\n",
    "    w = CifWriter(structure)\n",
    "    w.write_file('mp-22881.cif')"
   ]
  },
  {
   "cell_type": "code",
   "execution_count": 77,
   "metadata": {},
   "outputs": [
    {
     "name": "stdout",
     "output_type": "stream",
     "text": [
      "Vecteurs de bases du réseau direct :\n",
      "matrice:\n",
      "3.850977 0.072671 5.494462\n",
      "1.786849 3.412107 5.494462\n",
      "0.117570 0.072671 6.708599\n",
      "longueurs: (6.710023169454737, 6.710023172360349, 6.710023164615512)\n",
      "angles: (34.01989457636677, 34.019894526076584, 34.01989453615541)\n",
      "-------------------------------------\n",
      "Vecteurs de bases du réseau réciproque :\n",
      "matrice:\n",
      "1.676387 -0.845325 -0.020222\n",
      "-0.006576 1.877446 -0.020222\n",
      "-1.367604 -0.845325 0.969711\n",
      "longueurs: (1.8775665112637632, 1.877566508009304, 1.8775665106657207)\n",
      "angles: (116.94958449416424, 116.94958464070217, 116.94958461133402)\n",
      "-------------------------------------\n",
      "Type de maille : R-3m\n",
      "-------------------------------------\n",
      "Système cristallin : rhombohedral\n",
      "-------------------------------------\n",
      "Groupe ponctuel : -3m\n"
     ]
    }
   ],
   "source": [
    "from pymatgen.symmetry.analyzer import SpacegroupAnalyzer\n",
    "\n",
    "s = SpacegroupAnalyzer(structure)\n",
    "l = structure.lattice\n",
    "\n",
    "print('Vecteurs de bases du réseau direct :')\n",
    "print('matrice:')\n",
    "print(l)\n",
    "print('longueurs:',l.abc)\n",
    "print('angles:', l.angles)\n",
    "print('-------------------------------------')\n",
    "\n",
    "print('Vecteurs de bases du réseau réciproque :')\n",
    "print('matrice:')\n",
    "print(l.reciprocal_lattice)\n",
    "print('longueurs:',l.reciprocal_lattice.abc)\n",
    "print('angles:',l.reciprocal_lattice.angles)\n",
    "print('-------------------------------------')\n",
    "\n",
    "print('Type de maille :', s.get_space_group_symbol())\n",
    "print('-------------------------------------')\n",
    "\n",
    "print('Système cristallin :', s.get_lattice_type())\n",
    "print('-------------------------------------')\n",
    "\n",
    "print('Groupe ponctuel :', s.get_point_group_symbol())"
   ]
  },
  {
   "cell_type": "code",
   "execution_count": null,
   "metadata": {},
   "outputs": [],
   "source": []
  }
 ],
 "metadata": {
  "kernelspec": {
   "display_name": "Python 3",
   "language": "python",
   "name": "python3"
  },
  "language_info": {
   "codemirror_mode": {
    "name": "ipython",
    "version": 3
   },
   "file_extension": ".py",
   "mimetype": "text/x-python",
   "name": "python",
   "nbconvert_exporter": "python",
   "pygments_lexer": "ipython3",
   "version": "3.6.8"
  }
 },
 "nbformat": 4,
 "nbformat_minor": 2
}
