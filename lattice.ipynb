{
 "cells": [
  {
   "cell_type": "markdown",
   "metadata": {},
   "source": [
    "# Analyse de la maille cristalline"
   ]
  },
  {
   "cell_type": "markdown",
   "metadata": {},
   "source": [
    "## Téléchargement du fichier CIF symmetrized"
   ]
  },
  {
   "cell_type": "code",
   "execution_count": null,
   "metadata": {},
   "outputs": [],
   "source": [
    "from pymatgen.ext.matproj import MPRester\n",
    "from pymatgen.io.cif import CifWriter\n",
    "\n",
    "\n",
    "# Obtain all existing Cd-Cl phases using the Materials Project REST API\n",
    "with MPRester(\"sdp42oAyhJ8t1iJnx\") as m:\n",
    "    # Structure for material id\n",
    "    structure = m.get_structure_by_material_id(\"mp-22881\")\n",
    "    #print(structure)\n",
    "\n",
    "    w = CifWriter(structure,0.1)\n",
    "    w.write_file('mp-22881.cif')"
   ]
  },
  {
   "cell_type": "markdown",
   "metadata": {},
   "source": [
    "## Analyse des paramètres de la maille cristalline"
   ]
  },
  {
   "cell_type": "code",
   "execution_count": 10,
   "metadata": {},
   "outputs": [
    {
     "name": "stdout",
     "output_type": "stream",
     "text": [
      "------------------------------  ------------------------------------------------------------\n",
      "Vecteurs du réseau direct\n",
      "Matrice                         3.850977 0.072671 5.494462\n",
      "                                1.786849 3.412107 5.494462\n",
      "                                0.117570 0.072671 6.708599\n",
      "Longueurs (a,b,c)               (6.710023169454737, 6.710023172360349, 6.710023164615512)\n",
      "Angles (alpha,beta,gamma)       (34.01989457636677, 34.019894526076584, 34.01989453615541)\n",
      "------------------------------  ------------------------------------------------------------\n",
      "Vecteurs du réseau réciproque\n",
      "Matrice                         1.676387 -0.845325 -0.020222\n",
      "                                -0.006576 1.877446 -0.020222\n",
      "                                -1.367604 -0.845325 0.969711\n",
      "Longueurs (a,b,c)               (1.8775665112637632, 1.877566508009304, 1.8775665106657207)\n",
      "Angles (alpha,beta,gamma)       (116.94958449416424, 116.94958464070217, 116.94958461133402)\n",
      "------------------------------  ------------------------------------------------------------\n",
      "Type de maille                  rhombohedral\n",
      "------------------------------  ------------------------------------------------------------\n",
      "Système cristallin              trigonal\n",
      "------------------------------  ------------------------------------------------------------\n",
      "Groupe ponctuel                 -3m\n",
      "------------------------------  ------------------------------------------------------------\n"
     ]
    }
   ],
   "source": [
    "from pymatgen.symmetry.analyzer import SpacegroupAnalyzer \n",
    "from tabulate import tabulate\n",
    "\n",
    "s = SpacegroupAnalyzer(structure,0.1)\n",
    "l = structure.lattice\n",
    "\n",
    "print(tabulate([\n",
    "    [\"Vecteurs du réseau direct\",], \n",
    "    [\"Matrice\", str(l)],\n",
    "\t[\"Longueurs (a,b,c)\",str(l.abc)],\n",
    "\t[\"Angles (alpha,beta,gamma)\",str(l.angles)],\n",
    "\t[\"------------------------------\",\"------------------------------------------------------------\"],\n",
    "\t[\"Vecteurs du réseau réciproque\",],\n",
    "    [\"Matrice\", str(l.reciprocal_lattice)],\n",
    "\t[\"Longueurs (a,b,c)\",str(l.reciprocal_lattice.abc)],\n",
    "\t[\"Angles (alpha,beta,gamma)\",str(l.reciprocal_lattice.angles)],\n",
    "\t[\"------------------------------\",\"------------------------------------------------------------\"],\n",
    "\t[\"Type de maille\",str(s.get_lattice_type())],\n",
    "    [\"------------------------------\",\"------------------------------------------------------------\"],\n",
    "\t[\"Système cristallin\",str(s.get_crystal_system())],\n",
    "    [\"------------------------------\",\"------------------------------------------------------------\"],\n",
    "\t[\"Groupe ponctuel\",str(s.get_point_group_symbol())]]))"
   ]
  },
  {
   "cell_type": "code",
   "execution_count": null,
   "metadata": {},
   "outputs": [],
   "source": []
  }
 ],
 "metadata": {
  "kernelspec": {
   "display_name": "Python 3",
   "language": "python",
   "name": "python3"
  },
  "language_info": {
   "codemirror_mode": {
    "name": "ipython",
    "version": 3
   },
   "file_extension": ".py",
   "mimetype": "text/x-python",
   "name": "python",
   "nbconvert_exporter": "python",
   "pygments_lexer": "ipython3",
   "version": "3.6.8"
  }
 },
 "nbformat": 4,
 "nbformat_minor": 2
}
