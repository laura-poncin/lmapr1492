{
 "cells": [
  {
   "cell_type": "markdown",
   "metadata": {},
   "source": [
    "# Téléchargement du fichier CIF (symmetrized)"
   ]
  },
  {
   "cell_type": "markdown",
   "metadata": {},
   "source": [
    "Une *structure* est créée à partir de la clé d'identification et de l'identifiant du cristal sur le Material Project. \n",
    "On écrit ensuite le CIF symmetrized dans un fichier CIF à l'aide de la classe *CifWriter*. "
   ]
  },
  {
   "cell_type": "code",
   "execution_count": 3,
   "metadata": {},
   "outputs": [],
   "source": [
    "from pymatgen.ext.matproj import MPRester\n",
    "from pymatgen.io.cif import CifWriter\n",
    "\n",
    "\n",
    "# Obtain all existing Cd-Cl phases using the Materials Project REST API\n",
    "with MPRester(\"sdp42oAyhJ8t1iJnx\") as m:\n",
    "    # Structure for material id\n",
    "    structure = m.get_structure_by_material_id(\"mp-22881\")\n",
    "\n",
    "    w = CifWriter(structure,0.1)\n",
    "    w.write_file('mp-22881.cif')"
   ]
  },
  {
   "cell_type": "code",
   "execution_count": null,
   "metadata": {},
   "outputs": [],
   "source": []
  }
 ],
 "metadata": {
  "kernelspec": {
   "display_name": "Python 3",
   "language": "python",
   "name": "python3"
  },
  "language_info": {
   "codemirror_mode": {
    "name": "ipython",
    "version": 3
   },
   "file_extension": ".py",
   "mimetype": "text/x-python",
   "name": "python",
   "nbconvert_exporter": "python",
   "pygments_lexer": "ipython3",
   "version": "3.6.8"
  }
 },
 "nbformat": 4,
 "nbformat_minor": 2
}
