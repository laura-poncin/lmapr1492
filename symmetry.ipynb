{
 "cells": [
  {
   "cell_type": "markdown",
   "metadata": {
    "scrolled": true
   },
   "source": [
    "# Analyse de la symétrie du cristal CdCl2"
   ]
  },
  {
   "cell_type": "code",
   "execution_count": 4,
   "metadata": {},
   "outputs": [],
   "source": [
    "from pymatgen.ext.matproj import MPRester\n",
    "from pymatgen.io.cif import *\n",
    "from pymatgen.symmetry.analyzer import SpacegroupAnalyzer"
   ]
  },
  {
   "cell_type": "markdown",
   "metadata": {},
   "source": [
    "## Téléchargement du fichier CIF symmetrized"
   ]
  },
  {
   "cell_type": "code",
   "execution_count": 5,
   "metadata": {},
   "outputs": [],
   "source": [
    "# Obtenir l'objet structure du CdCl2\n",
    "with MPRester(\"sdp42oAyhJ8t1iJnx\") as m:\n",
    "    # Structure for material id\n",
    "    structure = m.get_structure_by_material_id(\"mp-22881\")\n",
    "    w = CifWriter(structure, 0.1)\n",
    "    w.write_file('mp-22881.cif')"
   ]
  },
  {
   "cell_type": "markdown",
   "metadata": {},
   "source": [
    "## Analyse de 3 éléments de symétrie sur 3 atomes différents"
   ]
  },
  {
   "cell_type": "code",
   "execution_count": 6,
   "metadata": {},
   "outputs": [],
   "source": [
    "# Prérequis pour la suite\n",
    "conventional_structure = SpacegroupAnalyzer(structure).get_conventional_standard_structure()\n",
    "s = SpacegroupAnalyzer(conventional_structure)\n",
    "SymmetryList = s.get_symmetry_operations()  # retourne la liste de toutes les symétries"
   ]
  },
  {
   "cell_type": "markdown",
   "metadata": {},
   "source": [
    "On défini 3 atomes représentés par leur coordonnées dans la maille conventionnelle.\n",
    "On défini également les 3 opérations de symétries.\n",
    "Et on applique enfin ces 3 opérations aux 3 atomes."
   ]
  },
  {
   "cell_type": "code",
   "execution_count": 7,
   "metadata": {},
   "outputs": [],
   "source": [
    "# Les atomes\n",
    "Cd0 = [0.0, 0.0, 0.0]  # 1\n",
    "Cl1 = [0.0, 0.0, 0.257721]  # 2\n",
    "Cl2 = [0.0, 0.0, 0.742279]  # 3\n",
    "\n",
    "# Eléments de symétrie\n",
    "symetrie1 = SymmetryList[14]  # 15\n",
    "symetrie2 = SymmetryList[7]  # 8\n",
    "symetrie3 = SymmetryList[22]  # 23\n",
    "\n",
    "# Application des opérations\n",
    "Cd0_op = symetrie1.operate(Cd0)\n",
    "Cl1_op = symetrie2.operate(Cl1)\n",
    "Cl2_op = symetrie3.operate(Cl2)"
   ]
  },
  {
   "cell_type": "markdown",
   "metadata": {},
   "source": [
    "### Première opération sur l'atome de Cd0"
   ]
  },
  {
   "cell_type": "code",
   "execution_count": 8,
   "metadata": {
    "scrolled": true
   },
   "outputs": [
    {
     "name": "stdout",
     "output_type": "stream",
     "text": [
      "atome de départ : [0.0, 0.0, 0.0]\n",
      "atome d arrivée : [0.66666667 0.33333333 0.33333333]\n",
      "Opération de symétrie : rotation + translation\n",
      "[0.66666667 0.33333333 0.33333333] = \n",
      " [[ 0. -1.  0.]\n",
      " [ 1. -1.  0.]\n",
      " [ 0.  0.  1.]] . [0.0, 0.0, 0.0] + [0.66666667 0.33333333 0.33333333]\n"
     ]
    }
   ],
   "source": [
    "print('atome de départ :', Cd0)\n",
    "print('atome d arrivée :', Cd0_op)\n",
    "print('Opération de symétrie : rotation + translation')\n",
    "print(Cd0_op, '= \\n', symetrie1.rotation_matrix, \".\", Cd0, \"+\", symetrie1.translation_vector)"
   ]
  },
  {
   "cell_type": "code",
   "execution_count": 9,
   "metadata": {
    "scrolled": true
   },
   "outputs": [
    {
     "data": {
      "text/html": [
       "<img src = \"Cd0.jpg\",width=50,height=50>\n"
      ],
      "text/plain": [
       "<IPython.core.display.HTML object>"
      ]
     },
     "metadata": {},
     "output_type": "display_data"
    }
   ],
   "source": [
    "%%html\n",
    "<img src = \"Cd0.jpg\",width=50,height=50>"
   ]
  },
  {
   "cell_type": "markdown",
   "metadata": {},
   "source": [
    "### Seconde opération sur l'atome de Cl1"
   ]
  },
  {
   "cell_type": "code",
   "execution_count": 10,
   "metadata": {
    "scrolled": true
   },
   "outputs": [
    {
     "name": "stdout",
     "output_type": "stream",
     "text": [
      "atome de départ : [0.0, 0.0, 0.257721]\n",
      "atome d arrivée : [0.       0.       0.257721]\n",
      "Opération de symétrie : réflexion\n",
      "[0.       0.       0.257721] = \n",
      " [[ 0. -1.  0.]\n",
      " [-1.  0.  0.]\n",
      " [ 0.  0.  1.]] . [0.0, 0.0, 0.257721] + [0. 0. 0.]\n"
     ]
    }
   ],
   "source": [
    "print('atome de départ :', Cl1)\n",
    "print('atome d arrivée :', Cl1_op)\n",
    "print('Opération de symétrie : réflexion')\n",
    "print(Cl1_op, '= \\n', symetrie2.rotation_matrix, \".\", Cl1, \"+\", symetrie2.translation_vector)"
   ]
  },
  {
   "cell_type": "code",
   "execution_count": 11,
   "metadata": {},
   "outputs": [
    {
     "data": {
      "text/html": [
       "<img src = \"Cl1.jpg\",width=50,height=50>\n"
      ],
      "text/plain": [
       "<IPython.core.display.HTML object>"
      ]
     },
     "metadata": {},
     "output_type": "display_data"
    }
   ],
   "source": [
    "%%html\n",
    "<img src = \"Cl1.jpg\",width=50,height=50>"
   ]
  },
  {
   "cell_type": "markdown",
   "metadata": {},
   "source": [
    "### Troisième opération sur l'atome de Cl2"
   ]
  },
  {
   "cell_type": "code",
   "execution_count": 12,
   "metadata": {},
   "outputs": [
    {
     "name": "stdout",
     "output_type": "stream",
     "text": [
      "atome de départ : [0.0, 0.0, 0.742279]\n",
      "atome d arrivée : [ 0.66666667  0.33333333 -0.40894567]\n",
      "Opération de symétrie : rotation + translation\n",
      "[ 0.66666667  0.33333333 -0.40894567] = \n",
      " [[-1.  0.  0.]\n",
      " [-1.  1.  0.]\n",
      " [ 0.  0. -1.]] . [0.0, 0.0, 0.742279] + [0.66666667 0.33333333 0.33333333]\n"
     ]
    }
   ],
   "source": [
    "print('atome de départ :', Cl2)\n",
    "print('atome d arrivée :', Cl2_op)\n",
    "print('Opération de symétrie : rotation + translation')\n",
    "print(Cl2_op, '= \\n', symetrie3.rotation_matrix, \".\", Cl2, \"+\", symetrie3.translation_vector)"
   ]
  },
  {
   "cell_type": "code",
   "execution_count": 13,
   "metadata": {},
   "outputs": [
    {
     "data": {
      "text/html": [
       "<img src = \"Cl2.jpg\",width=50,height=50>\n"
      ],
      "text/plain": [
       "<IPython.core.display.HTML object>"
      ]
     },
     "metadata": {},
     "output_type": "display_data"
    }
   ],
   "source": [
    "%%html\n",
    "<img src = \"Cl2.jpg\",width=50,height=50>"
   ]
  }
 ],
 "metadata": {
  "kernelspec": {
   "display_name": "Python 3",
   "language": "python",
   "name": "python3"
  },
  "language_info": {
   "codemirror_mode": {
    "name": "ipython",
    "version": 3
   },
   "file_extension": ".py",
   "mimetype": "text/x-python",
   "name": "python",
   "nbconvert_exporter": "python",
   "pygments_lexer": "ipython3",
   "version": "3.6.8"
  }
 },
 "nbformat": 4,
 "nbformat_minor": 2
}
